{
 "cells": [
  {
   "cell_type": "markdown",
   "id": "94edd28d-48fb-4daf-ac61-383033060d10",
   "metadata": {},
   "source": [
    "# Pytorch workflow\n",
    "\n",
    "Let´s explore an example Pytorch end to end workflow\n",
    "\n",
    "*RESOURCES:*\n",
    "<br>    * Ground truth notebook: https://github.com/mrdbourke/pytorch-deep-learning/blob/main/01_pytorch_workflow.ipynb\n",
    "<br>    * Book version of notebook: https://www.learnpytorch.io/01_pytorch_workflow/\n",
    "<br>    * Ask a question: https://github.com/mrdbourke/pytorch-deep-learning/discussions\n"
   ]
  },
  {
   "cell_type": "code",
   "execution_count": 201,
   "id": "61421ad0-e31b-4f4c-a792-c0b1b25c2880",
   "metadata": {},
   "outputs": [
    {
     "data": {
      "text/plain": [
       "{1: 'data (prepare and load)',\n",
       " 2: 'build model',\n",
       " 3: 'fitting the model to data(training)',\n",
       " 4: 'making predictions and evaluating a model(inference)',\n",
       " 5: 'saving and loading a model',\n",
       " 6: 'putting it all together'}"
      ]
     },
     "execution_count": 201,
     "metadata": {},
     "output_type": "execute_result"
    }
   ],
   "source": [
    "what_were_covering = {1: \"data (prepare and load)\",\n",
    "                      2: \"build model\",\n",
    "                      3: \"fitting the model to data(training)\",\n",
    "                      4: \"making predictions and evaluating a model(inference)\",\n",
    "                      5: \"saving and loading a model\",\n",
    "                      6: \"putting it all together\"}\n",
    "what_were_covering"
   ]
  },
  {
   "cell_type": "code",
   "execution_count": 202,
   "id": "1558b23e-542d-4491-9860-eb68d1241f66",
   "metadata": {},
   "outputs": [
    {
     "data": {
      "text/plain": [
       "'2.5.1+cu121'"
      ]
     },
     "execution_count": 202,
     "metadata": {},
     "output_type": "execute_result"
    }
   ],
   "source": [
    "import torch\n",
    "from torch import nn #nn contains all of Pytorch ´s building blocks for NEURAL NETWORKS\n",
    "import matplotlib.pyplot as plt\n",
    "\n",
    "# Check pytorch version\n",
    "torch.__version__"
   ]
  },
  {
   "cell_type": "markdown",
   "id": "e0360264-2ac7-498d-bc2d-0dd215ba895a",
   "metadata": {},
   "source": [
    "### DATA (PREPARING AND LOADING)\n",
    "\n",
    "DATA can be almost anything.. in machine learning\n",
    "* Excel spreadsheet\n",
    "* images of any kind\n",
    "* Videos (Youtube has lots of data)\n",
    "* Audio like songs or podcasts\n",
    "* DNA\n",
    "* Text\n",
    "  \n",
    "Machine Learning is a game of two parts:\n",
    "1. Get data into numerical representation.\n",
    "2. Build a model to learn patterns in that numerical representation.\n",
    "\n",
    "To showcase this, Let´s create some *KNOWN* data using the linear regression formula:\n",
    "\n",
    "We´ll use a linear regression formula to make a straight line with known *(**parameters**)*"
   ]
  },
  {
   "cell_type": "code",
   "execution_count": 203,
   "id": "3f649346-bbce-48d0-9a47-f603b13d56d6",
   "metadata": {},
   "outputs": [
    {
     "name": "stdout",
     "output_type": "stream",
     "text": [
      "Dimension of X: 2\n",
      " X matrixtensor([[0.0000],\n",
      "        [0.0200],\n",
      "        [0.0400],\n",
      "        [0.0600],\n",
      "        [0.0800],\n",
      "        [0.1000],\n",
      "        [0.1200],\n",
      "        [0.1400],\n",
      "        [0.1600],\n",
      "        [0.1800]]) \n",
      " Output: tensor([[0.3000],\n",
      "        [0.3140],\n",
      "        [0.3280],\n",
      "        [0.3420],\n",
      "        [0.3560],\n",
      "        [0.3700],\n",
      "        [0.3840],\n",
      "        [0.3980],\n",
      "        [0.4120],\n",
      "        [0.4260]])\n"
     ]
    }
   ],
   "source": [
    "# Create *known * parameters\n",
    "\n",
    "weight = 0.7\n",
    "bias = 0.3\n",
    "\n",
    "# Create\n",
    "start = 0\n",
    "end = 1\n",
    "step = 0.02\n",
    "X = torch.arange(start, end, step).unsqueeze(dim =1)\n",
    "print(f\"Dimension of X: {X.dim()}\")\n",
    "y = weight*X + bias\n",
    "print(f\" X matrix{X[:10]} \\n Output: {y[:10]}\")"
   ]
  },
  {
   "cell_type": "code",
   "execution_count": 204,
   "id": "6317b2b6-4e04-4c61-872b-671ab927d075",
   "metadata": {},
   "outputs": [
    {
     "data": {
      "text/plain": [
       "(50, 50)"
      ]
     },
     "execution_count": 204,
     "metadata": {},
     "output_type": "execute_result"
    }
   ],
   "source": [
    "len(X), len(y)"
   ]
  },
  {
   "cell_type": "markdown",
   "id": "3637e994-8871-47c8-b027-214c97f75848",
   "metadata": {},
   "source": [
    "### Spliting the data into training and test sets(one of the most important concepts in machine learning)\n",
    " information: https://www.learnpytorch.io/01_pytorch_workflow/#split-data-into-training-and-test-sets\n",
    "\n",
    " Let´s create a training and test data set with our data:"
   ]
  },
  {
   "cell_type": "code",
   "execution_count": 205,
   "id": "991b9202-16b5-48fb-8d79-0f0875d0a610",
   "metadata": {},
   "outputs": [
    {
     "data": {
      "text/plain": [
       "(40, 10, 40, 10)"
      ]
     },
     "execution_count": 205,
     "metadata": {},
     "output_type": "execute_result"
    }
   ],
   "source": [
    "# Create a train/test split\n",
    "train_split = int(0.8 * len(X))\n",
    "train_split\n",
    "X_train, y_train = X[:train_split], y[:train_split] # X[:train_split] this will chose the data set from 0 index till the index train split is indicating\n",
    "\n",
    "# Now creating a test data\n",
    "X_test, y_test = X[train_split:], y[train_split:] # We know that in train data set it was containing **40** data points so remaining **10** points will be used for test \n",
    "\n",
    "len(X_train), len(X_test) , len(y_train), len(y_test)"
   ]
  },
  {
   "cell_type": "markdown",
   "id": "a875ce07-f320-41c1-901f-c538c1030c2b",
   "metadata": {},
   "source": [
    "### DATA VISUALIZATION (*creating a function*)"
   ]
  },
  {
   "cell_type": "code",
   "execution_count": 257,
   "id": "d7ef4fc2-a52b-4762-bdfe-71cf13ce03c4",
   "metadata": {},
   "outputs": [],
   "source": [
    "def plot_predictions(train_data = X_train,\n",
    "                     train_labels = y_train,\n",
    "                     test_data = X_test,\n",
    "                     test_labels = y_test,\n",
    "                     predictions=None):\n",
    "    \"\"\"\n",
    "    Plots training data, test data and compare predictions.\n",
    "    \"\"\"\n",
    "    plt.figure(figsize=(10, 7))\n",
    "\n",
    "    # Plot training data in blue\n",
    "    plt.scatter(train_data, train_labels, c=\"b\", s=4, label=\"Training Data\")\n",
    "\n",
    "    #Plot testing data in green\n",
    "    plt.scatter(test_data, test_labels, c= \"g\", s=4, label= \"Test Data\")\n",
    "\n",
    "    # Are there predicitions?\n",
    "    if predictions is not None:\n",
    "        # plot predictions if available\n",
    "        plt.scatter(test_data, predictions, c=\"r\", s=4, label= \"predictions\")\n",
    "\n",
    "    # Show the legend\n",
    "    plt.legend(prop={\"size\" : 8});\n",
    "        "
   ]
  },
  {
   "cell_type": "code",
   "execution_count": 258,
   "id": "a1a6d165-d736-4493-b160-f7ca0630b3cd",
   "metadata": {},
   "outputs": [
    {
     "data": {
      "image/png": "[encoded data removed]",
      "text/plain": [
       "<Figure size 1000x700 with 1 Axes>"
      ]
     },
     "metadata": {},
     "output_type": "display_data"
    }
   ],
   "source": [
    "plot_predictions();"
   ]
  },
  {
   "cell_type": "markdown",
   "id": "d39cb5d6-cb7a-4224-8aab-8787fddab788",
   "metadata": {},
   "source": [
    "### CREATING FIRST PyTorch MODEL FOR LINEAR REGRESSION"
   ]
  },
  {
   "cell_type": "markdown",
   "id": "f36df502-93b3-4968-a83a-6a004eabb50a",
   "metadata": {},
   "source": [
    "### 2. BUILD MODEL\n",
    "\n",
    "Our first Pytorch model\n",
    "\n",
    "LINEAR REGRESSION MODEL: **y = a+bx**\n",
    "\n",
    "Because we are going to be building classes throughtout the course, I´d recommend getting familiar with OOP in Python.\n",
    "<br>**Resource:** https://realpython.com/python3-object-oriented-programming/ \n",
    "<br> What our model does:\n",
    "* Start with random values (weight and bias)\n",
    "* Look at training data and adjust the random values to better representation( or get closer to ) the ideal values ( the weight and bias values we used to create the data )\n",
    "\n",
    "<br> How does it do so?\n",
    "\n",
    "Through two main algorithms:\n",
    "1. Gradient descent: https://www.youtube.com/watch?v=IHZwWFHWa-w\n",
    "2. Backpropogation:  https://youtu.be/Ilg3gGewQ5U"
   ]
  },
  {
   "cell_type": "code",
   "execution_count": 259,
   "id": "df798d52-ad39-461b-9d57-cebf274a47de",
   "metadata": {},
   "outputs": [],
   "source": [
    "# Create linear regression model class\n",
    "class LinearRegressionModel(nn.Module):  #  Almost everything in Pytorch inherits from nn.Module\n",
    "    def __init__(self):\n",
    "        super().__init__()\n",
    "        self.weights = nn.Parameter(torch.randn(1, # <- start with a random weight and tra to adjust it to the ideal weight\n",
    "                                                requires_grad=True, # <- can this parameter be updated via gradient descent?\n",
    "                                                dtype=torch.float)) # <- Pytorch loves the datatype torch.float32\n",
    "        \n",
    "        self.bias = nn.Parameter(torch.randn(1, #<- start with a random bias and tra to adjust it to the ideal bias\n",
    "                                             requires_grad=True, # <- can this parameter be updated via gradient descent?\n",
    "                                             dtype=torch.float)) # <- Pytorch loves the datatype torch.float32\n",
    "\n",
    "        # Forward method to feine the computation in the model\n",
    "    def forward(self, x: torch.Tensor) -> torch.Tensor:  # \"x\" is the input data\n",
    "        return self.weights*x + self.bias # This is the linear regression formula"
   ]
  },
  {
   "cell_type": "markdown",
   "id": "9b46705d-5a17-4566-918c-9d13eac5814c",
   "metadata": {},
   "source": [
    "### Pytorch Model building essentials\n",
    "\n",
    "<br>* torch.nn - Contains all of the buildings for computational graphs(another word for Neural Networks)\n",
    "<br>* torch.nn.parameters - What parameters should our model try and learn, often a Pytorch layer from torch.nn will set these for us\n",
    "<br>* torch.nn.Module - The base Class for all neural network modules. if you subclass it, you overwrite forward()\n",
    "<br>* torch.optim- this is where optimization happens of gradient descent\n",
    "<br>* def forward() - All nn.Modules subclass require you to overwrite forawrd(). This method defines what you want your model to do."
   ]
  },
  {
   "cell_type": "markdown",
   "id": "34c44b4c-f7ec-4202-ad52-b1aaf9f80a70",
   "metadata": {},
   "source": [
    "#### PyTorch CHEAT SHEET : https://docs.pytorch.org/tutorials/beginner/ptcheat.html"
   ]
  },
  {
   "cell_type": "code",
   "execution_count": 260,
   "id": "d2788305-e7da-493a-b1f0-7e130b6eca3c",
   "metadata": {},
   "outputs": [
    {
     "data": {
      "text/plain": [
       "[Parameter containing:\n",
       " tensor([0.3367], requires_grad=True),\n",
       " Parameter containing:\n",
       " tensor([0.1288], requires_grad=True)]"
      ]
     },
     "execution_count": 260,
     "metadata": {},
     "output_type": "execute_result"
    }
   ],
   "source": [
    "# Checking parameter of the Linear Regression model that we made\n",
    "torch.manual_seed(42) # To make it static because in model we are using torch.randn\n",
    "model_0 = LinearRegressionModel()\n",
    "list(model_0.parameters())"
   ]
  },
  {
   "cell_type": "code",
   "execution_count": 261,
   "id": "344331bb-25f6-4854-b42d-dc0edc97412c",
   "metadata": {},
   "outputs": [
    {
     "data": {
      "text/plain": [
       "OrderedDict([('weights', tensor([0.3367])), ('bias', tensor([0.1288]))])"
      ]
     },
     "execution_count": 261,
     "metadata": {},
     "output_type": "execute_result"
    }
   ],
   "source": [
    "# List named parameters\n",
    "model_0.state_dict()  # another way to look at the parameters and show with the names"
   ]
  },
  {
   "cell_type": "code",
   "execution_count": 262,
   "id": "9efa8da5-4239-4eda-bcef-34f15a558238",
   "metadata": {},
   "outputs": [
    {
     "data": {
      "text/plain": [
       "(0.7, 0.3)"
      ]
     },
     "execution_count": 262,
     "metadata": {},
     "output_type": "execute_result"
    }
   ],
   "source": [
    "weight, bias #These are the hard codes values that we coded in the starting and now we have to train our model to achieve this coded weight and bias. Onces it is achieved we will understand that our model is trained"
   ]
  },
  {
   "cell_type": "markdown",
   "id": "609148af-b888-4bd7-b6a7-2834835999df",
   "metadata": {},
   "source": [
    "### Making Predictions using our Random Model using inference mode\n",
    "\n",
    "### using `torch.inference_mode()`\n",
    "\n",
    "To check our model´s predictive power, lets see how well it produces `y_test` based on `X_test`.\n",
    "When we pass data through our model, it´s going to run it through the forward() method."
   ]
  },
  {
   "cell_type": "code",
   "execution_count": 263,
   "id": "656558ea-3d96-43f8-9acd-4b796503242e",
   "metadata": {},
   "outputs": [
    {
     "data": {
      "text/plain": [
       "(tensor([[0.8000],\n",
       "         [0.8200],\n",
       "         [0.8400],\n",
       "         [0.8600],\n",
       "         [0.8800],\n",
       "         [0.9000],\n",
       "         [0.9200],\n",
       "         [0.9400],\n",
       "         [0.9600],\n",
       "         [0.9800]]),\n",
       " tensor([[0.8600],\n",
       "         [0.8740],\n",
       "         [0.8880],\n",
       "         [0.9020],\n",
       "         [0.9160],\n",
       "         [0.9300],\n",
       "         [0.9440],\n",
       "         [0.9580],\n",
       "         [0.9720],\n",
       "         [0.9860]]))"
      ]
     },
     "execution_count": 263,
     "metadata": {},
     "output_type": "execute_result"
    }
   ],
   "source": [
    "# Actual value of X_test and Y_test \n",
    "X_test, y_test # So now our prediction should be equal to the y_test tensor"
   ]
  },
  {
   "cell_type": "code",
   "execution_count": 264,
   "id": "4b299e42-8e41-4837-a70e-92c9eaa2e0f1",
   "metadata": {},
   "outputs": [
    {
     "data": {
      "text/plain": [
       "tensor([[0.3982],\n",
       "        [0.4049],\n",
       "        [0.4116],\n",
       "        [0.4184],\n",
       "        [0.4251],\n",
       "        [0.4318],\n",
       "        [0.4386],\n",
       "        [0.4453],\n",
       "        [0.4520],\n",
       "        [0.4588]])"
      ]
     },
     "execution_count": 264,
     "metadata": {},
     "output_type": "execute_result"
    }
   ],
   "source": [
    "# Make predictions with model\n",
    "with torch.inference_mode():\n",
    "    y_preds = model_0(X_test)\n",
    "y_preds\n",
    "\n",
    "# We can also do it like but this will keep track of gradient and it will take memory but inference doesn´t record gradient and keep memory short\n",
    "# y_preds = model_0(X_test)\n",
    "# y_preds "
   ]
  },
  {
   "cell_type": "code",
   "execution_count": 265,
   "id": "52a2e555-8bfc-4411-9077-1911efde79ac",
   "metadata": {},
   "outputs": [
    {
     "data": {
      "image/png": "[encoded data removed]",
      "text/plain": [
       "<Figure size 1000x700 with 1 Axes>"
      ]
     },
     "metadata": {},
     "output_type": "display_data"
    }
   ],
   "source": [
    "plot_predictions(predictions=y_preds) # We can see that our model is predicting really far away and ideal model should be predicting perfectly"
   ]
  },
  {
   "cell_type": "markdown",
   "id": "cb8d17e9-49ba-46ca-af25-48d1ec9c5745",
   "metadata": {},
   "source": [
    "### 3. Train Model\n",
    "\n",
    "The whole idea of training for a model to move from some *unknown* parameters (these may be random) to some *known* parameters.\n",
    "<br> Or in other words from a poor representation of the data to a better representation of the data \n",
    "<br> One way to measure how poor or wrong your models predictions are is to use  ***LOSS FUNCTION***\n",
    "* NOTE: Loss function may also be called \"Cost Function\" or criterion in different areas. For our case, We are going to refer to it as a loss function\n",
    "\n",
    "Things we need to train;\n",
    "\n",
    "* **LOSS FUNCTION:** A function to measure how wrong your models predictions are to the ideal outputs, lower is better. https://docs.pytorch.org/docs/stable/nn.html#loss-functions\n",
    "* **OPTIMIZER:**  Takes into account the loss of a model and adjusts the model´s performance (eg: weight and bias).\n",
    "  https://docs.pytorch.org/docs/stable/optim.html\n",
    "    * inside optimizer you´ll often have to set two parameters:\n",
    "        * `params-`  the model paramters you´d like to optimize, e.g: `params=model_0.parameters()` \n",
    "        * `lr(learning rate)-` the learning rate is a hyperparameter that defines how big/small the optimizer changes the parameters with each step(a small `lr` results in large change)\n",
    "\n",
    "And specifically for PyTorch, we need:\n",
    "* A training loop\n",
    "* A testing loop"
   ]
  },
  {
   "cell_type": "code",
   "execution_count": 266,
   "id": "1e0332a6-c81d-47a3-ba37-8b8e6e9bc757",
   "metadata": {},
   "outputs": [
    {
     "data": {
      "text/plain": [
       "[Parameter containing:\n",
       " tensor([0.3367], requires_grad=True),\n",
       " Parameter containing:\n",
       " tensor([0.1288], requires_grad=True)]"
      ]
     },
     "execution_count": 266,
     "metadata": {},
     "output_type": "execute_result"
    }
   ],
   "source": [
    "list(model_0.parameters())"
   ]
  },
  {
   "cell_type": "code",
   "execution_count": 267,
   "id": "92e662be-95cf-4be8-80a1-6d549588d101",
   "metadata": {},
   "outputs": [
    {
     "name": "stdout",
     "output_type": "stream",
     "text": [
      "Error: tensor([-0.4618])\n"
     ]
    }
   ],
   "source": [
    "model_0.state_dict()\n",
    "# Checking the error between our prediction and the data we have:\n",
    "print(f\"Error: {(y_preds[0] - y_test[0])}\")"
   ]
  },
  {
   "cell_type": "code",
   "execution_count": 268,
   "id": "9eb371e6-4b7a-4464-90c4-852652c0b3f8",
   "metadata": {},
   "outputs": [
    {
     "data": {
      "text/plain": [
       "L1Loss()"
      ]
     },
     "execution_count": 268,
     "metadata": {},
     "output_type": "execute_result"
    }
   ],
   "source": [
    "# Setup a loss Function\n",
    "loss_fn = nn.L1Loss() #Initiating MAE(Mean absolute) we have other loss functions in PyTorch as well\n",
    "loss_fn"
   ]
  },
  {
   "cell_type": "code",
   "execution_count": 269,
   "id": "752f15ab-b4a5-4158-bcbb-da495afeaffa",
   "metadata": {},
   "outputs": [
    {
     "data": {
      "text/plain": [
       "SGD (\n",
       "Parameter Group 0\n",
       "    dampening: 0\n",
       "    differentiable: False\n",
       "    foreach: None\n",
       "    fused: None\n",
       "    lr: 0.01\n",
       "    maximize: False\n",
       "    momentum: 0.9\n",
       "    nesterov: False\n",
       "    weight_decay: 0\n",
       ")"
      ]
     },
     "execution_count": 269,
     "metadata": {},
     "output_type": "execute_result"
    }
   ],
   "source": [
    "# Setup an Optimizer (stochastic gradient descent)\n",
    "optimizer = torch.optim.SGD(params= model_0.parameters(),\n",
    "                            lr = 0.01, # Learning rate : it is a hyper parameter\n",
    "                            momentum = 0.9)\n",
    "optimizer"
   ]
  },
  {
   "cell_type": "markdown",
   "id": "71fc12d7-d147-4217-b794-73320f33545d",
   "metadata": {},
   "source": [
    "**Q:** What a loss function and optimzers should i use?\n",
    "<br>**A:** This will be problem specific. But with experience, you´ll get an idea of what works and what doesn´t with your particular problem set.\n",
    "<br>For Example: for a regression problem (like ours), a loss function of `nn.L1Loss()` and an optimzer like `torch.optim.SGD()` will suffice\n",
    "But for a classification problem like classifying whether a photo is of a dog or a cat, you´ll likely want to use a loss function of `nn.BCELoss()` (binary cross entropy loss)"
   ]
  },
  {
   "cell_type": "markdown",
   "id": "822ff7d7-f1d6-4cac-a5d7-d4518d7c93ba",
   "metadata": {},
   "source": [
    "### Building a training loop (and a testing loop) in PyTorch\n",
    "\n",
    "A couple of things we need in a training loop:\n",
    " 1. Loop through the data\n",
    " 2. Forward pass (this invloves data moving thorugh our model´s `forward()` to make predictions on data- also called forward propogation.\n",
    " 3. Calculate the loss (compare forward pass predictions to fround truth labels)\n",
    "4. Optimizer zero grad\n",
    "5. Loss backward - move backwards through the network to calculate the gradients of each of the parameters of our model with respect to the loss\n",
    "6. Optimizer step - use the optimizer to adjust our model´s parameters to try and improve the loss (**GRADIENT DESCENT**)"
   ]
  },
  {
   "cell_type": "code",
   "execution_count": 270,
   "id": "a1b13cb7-0ea2-42b6-9b2e-1a4a1ca0d5ec",
   "metadata": {},
   "outputs": [
    {
     "name": "stdout",
     "output_type": "stream",
     "text": [
      " Epoch: 0 I Loss: 0.31288138031959534 I Test loss: 0.48106518387794495\n",
      " Epoch: 10 I Loss: 0.10313145816326141 I Test loss: 0.026505161076784134\n",
      " Epoch: 20 I Loss: 0.06960087269544601 I Test loss: 0.1943041831254959\n",
      " Epoch: 30 I Loss: 0.04656733572483063 I Test loss: 0.027078520506620407\n",
      " Epoch: 40 I Loss: 0.021285563707351685 I Test loss: 0.001966828014701605\n",
      " Epoch: 50 I Loss: 0.015717655420303345 I Test loss: 0.0101406155154109\n",
      " Epoch: 60 I Loss: 0.009445302188396454 I Test loss: 0.0240285936743021\n",
      " Epoch: 70 I Loss: 0.00741451233625412 I Test loss: 0.007351106498390436\n",
      " Epoch: 80 I Loss: 0.0018297791248187423 I Test loss: 0.00930970348417759\n",
      " Epoch: 90 I Loss: 0.004054549150168896 I Test loss: 0.004079192876815796\n",
      " Epoch: 100 I Loss: 0.005789103917777538 I Test loss: 0.011751502752304077\n",
      " Epoch: 110 I Loss: 0.004738835152238607 I Test loss: 0.0048580230213701725\n",
      " Epoch: 120 I Loss: 0.005505512002855539 I Test loss: 0.010634821839630604\n",
      " Epoch: 130 I Loss: 0.0063748410902917385 I Test loss: 0.004038226790726185\n",
      " Epoch: 140 I Loss: 0.004935048520565033 I Test loss: 0.010920649394392967\n",
      " Epoch: 150 I Loss: 0.006573714315891266 I Test loss: 0.0039386870339512825\n",
      " Epoch: 160 I Loss: 0.004865697119385004 I Test loss: 0.010955387726426125\n",
      " Epoch: 170 I Loss: 0.006597835570573807 I Test loss: 0.003926664590835571\n",
      " Epoch: 180 I Loss: 0.004857355263084173 I Test loss: 0.010959500446915627\n",
      " Epoch: 190 I Loss: 0.0066006975248456 I Test loss: 0.003925305791199207\n"
     ]
    }
   ],
   "source": [
    "# An epoch is one loop through the data\n",
    "torch.manual_seed(42)\n",
    "epochs = 200\n",
    "\n",
    "# Track different values\n",
    "epoch_count =[]\n",
    "loss_values = []\n",
    "test_loss_values = []\n",
    "\n",
    "### TRAINING\n",
    "# 1. Loop through the data\n",
    "for epoch in range(epochs):\n",
    "    # set the model to training mode\n",
    "    model_0.train() # train mode in Pytorch sets all parameters that require gradients to require gradient\n",
    "    \n",
    "    # 2. Forward pass\n",
    "    y_pred = model_0(X_train)\n",
    "\n",
    "    # 3. Calculate Loss and use the loss function we created before\n",
    "    loss = loss_fn(y_pred, y_train)\n",
    "    # print(f\" Loss:{loss}\")  # Just to check value of loss function on every epoch\n",
    "    \n",
    "    # 4. Optimizer zero grad\n",
    "    optimizer.zero_grad()\n",
    "\n",
    "    # 5. Perform backprogogation on the loss with respect to the parameters of the model\n",
    "    loss.backward()\n",
    "\n",
    "    # 6. Step the optimizer (perform gradient descent)\n",
    "    optimizer.step() # by default how the optimizer changes will accumulate through the loop so.. we have to zero them above in step 3 for the next iteration of the loop \n",
    "\n",
    "    # Testing\n",
    "    model_0.eval() # turns off different settings in the model not needed for evaluation / testing (dropout/ batchnorm layers)\n",
    "    with torch.inference_mode():  # turn off gradient tracking and a couple more things behind which are not required in testing\n",
    "        # 1. Do the forward pass\n",
    "        test_pred = model_0(X_test)\n",
    "\n",
    "        # 2. Calculate test loss\n",
    "        test_loss = loss_fn(test_pred,y_test)\n",
    "\n",
    "    # Printing out what is happening\n",
    "    if epoch%10==0:  # we dont want to print on every line\n",
    "        epoch_count.append(epoch)\n",
    "        loss_values.append(loss)\n",
    "        test_loss_values.append(test_loss)\n",
    "        print(f\" Epoch: {epoch} I Loss: {loss} I Test loss: {test_loss}\")\n",
    "\n",
    "        \n",
    "        \n",
    "#print(f\" Loss:{loss}\")\n",
    "#print(f\"{model_0.state_dict()}\")"
   ]
  },
  {
   "cell_type": "code",
   "execution_count": 271,
   "id": "d53e21ac-da43-485b-872c-f4c64859678d",
   "metadata": {},
   "outputs": [],
   "source": [
    "# epoch_count, loss_values, test_loss_values # just to check which values are on tensor and which are not "
   ]
  },
  {
   "cell_type": "code",
   "execution_count": 272,
   "id": "7244068f-55b4-4969-a35b-19375f529839",
   "metadata": {},
   "outputs": [
    {
     "data": {
      "text/plain": [
       "Text(0, 0.5, 'loss')"
      ]
     },
     "execution_count": 272,
     "metadata": {},
     "output_type": "execute_result"
    },
    {
     "data": {
      "image/png": "[encoded data removed]",
      "text/plain": [
       "<Figure size 640x480 with 1 Axes>"
      ]
     },
     "metadata": {},
     "output_type": "display_data"
    }
   ],
   "source": [
    "# first we have to change values from tensors to numpy otherwise we will get error\n",
    "import numpy as np\n",
    "# Plot loss curves\n",
    "plt.plot(epoch_count, np.array(torch.tensor(loss_values).numpy()), label = \"Train loss\")\n",
    "plt.plot(epoch_count, np.array(torch.tensor(test_loss_values).numpy()), label= \"Tess loss\")\n",
    "plt.title(\"Training and test loss curves\")\n",
    "plt.xlabel(\"epoch\")\n",
    "plt.ylabel(\"loss\")"
   ]
  },
  {
   "cell_type": "code",
   "execution_count": 273,
   "id": "1c3286f9-979f-49cc-a3fc-3929947c300a",
   "metadata": {},
   "outputs": [
    {
     "name": "stdout",
     "output_type": "stream",
     "text": [
      "tensor([[0.8565],\n",
      "        [0.8706],\n",
      "        [0.8847],\n",
      "        [0.8987],\n",
      "        [0.9128],\n",
      "        [0.9269],\n",
      "        [0.9409],\n",
      "        [0.9550],\n",
      "        [0.9691],\n",
      "        [0.9831]])\n",
      "OrderedDict([('weights', tensor([0.7034])), ('bias', tensor([0.2938]))])\n"
     ]
    }
   ],
   "source": [
    "# predictions after training model\n",
    "with torch.inference_mode():\n",
    "    y_preds_new = model_0(X_test)\n",
    "print(y_preds_new)\n",
    "\n",
    "print(f\"{model_0.state_dict()}\")"
   ]
  },
  {
   "cell_type": "code",
   "execution_count": 274,
   "id": "2471e11c-c6bd-4325-8a10-1531baca53a0",
   "metadata": {},
   "outputs": [
    {
     "data": {
      "image/png": "[encoded data removed]",
      "text/plain": [
       "<Figure size 1000x700 with 1 Axes>"
      ]
     },
     "metadata": {},
     "output_type": "display_data"
    }
   ],
   "source": [
    "plot_predictions(predictions = y_preds_new)"
   ]
  },
  {
   "cell_type": "code",
   "execution_count": 275,
   "id": "fd284513-19c6-4b40-b4d4-cf8059a1af61",
   "metadata": {},
   "outputs": [
    {
     "data": {
      "image/png": "[encoded data removed]",
      "text/plain": [
       "<Figure size 1000x700 with 1 Axes>"
      ]
     },
     "metadata": {},
     "output_type": "display_data"
    }
   ],
   "source": [
    "# old predictions\n",
    "plot_predictions(predictions = y_preds)"
   ]
  },
  {
   "cell_type": "code",
   "execution_count": 240,
   "id": "ce6b7120-d1e0-417b-a304-1596aea3f031",
   "metadata": {},
   "outputs": [
    {
     "data": {
      "text/plain": [
       "OrderedDict([('weights', tensor([0.7034])), ('bias', tensor([0.2938]))])"
      ]
     },
     "execution_count": 240,
     "metadata": {},
     "output_type": "execute_result"
    }
   ],
   "source": [
    "model_0.state_dict()"
   ]
  },
  {
   "cell_type": "code",
   "execution_count": 241,
   "id": "64357702-a338-4326-bec1-832622ba2779",
   "metadata": {},
   "outputs": [
    {
     "data": {
      "text/plain": [
       "(0.7, 0.3)"
      ]
     },
     "execution_count": 241,
     "metadata": {},
     "output_type": "execute_result"
    }
   ],
   "source": [
    "weight,bias"
   ]
  },
  {
   "cell_type": "code",
   "execution_count": null,
   "id": "fece8025-3420-4d1d-afcf-b32744107102",
   "metadata": {},
   "outputs": [],
   "source": []
  }
 ],
 "metadata": {
  "kernelspec": {
   "display_name": "Python 3 (ipykernel)",
   "language": "python",
   "name": "python3"
  },
  "language_info": {
   "codemirror_mode": {
    "name": "ipython",
    "version": 3
   },
   "file_extension": ".py",
   "mimetype": "text/x-python",
   "name": "python",
   "nbconvert_exporter": "python",
   "pygments_lexer": "ipython3",
   "version": "3.11.1"
  }
 },
 "nbformat": 4,
 "nbformat_minor": 5
}
